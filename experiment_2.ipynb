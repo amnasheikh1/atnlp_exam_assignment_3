{
  "nbformat": 4,
  "nbformat_minor": 0,
  "metadata": {
    "colab": {
      "provenance": [],
      "gpuType": "A100"
    },
    "kernelspec": {
      "name": "python3",
      "display_name": "Python 3"
    },
    "language_info": {
      "name": "python"
    },
    "accelerator": "GPU"
  },
  "cells": [
    {
      "cell_type": "markdown",
      "source": [
        "# Experiment 2: Generalizing to commands demanding longer action sequences"
      ],
      "metadata": {
        "id": "3hbeJJnRJQFk"
      }
    },
    {
      "cell_type": "markdown",
      "source": [
        "Importing libraries"
      ],
      "metadata": {
        "id": "tRdt3pAPRfE1"
      }
    },
    {
      "cell_type": "code",
      "execution_count": 1,
      "metadata": {
        "colab": {
          "base_uri": "https://localhost:8080/"
        },
        "id": "Q4SJMR49gqgE",
        "outputId": "f5063abd-3be2-4b2d-ff76-9294fac2c1ba"
      },
      "outputs": [
        {
          "output_type": "stream",
          "name": "stdout",
          "text": [
            "Drive already mounted at /content/drive; to attempt to forcibly remount, call drive.mount(\"/content/drive\", force_remount=True).\n"
          ]
        }
      ],
      "source": [
        "from google.colab import drive\n",
        "drive.mount('/content/drive')"
      ]
    },
    {
      "cell_type": "code",
      "source": [
        "%cd \"/content/drive/MyDrive/atnlp\""
      ],
      "metadata": {
        "colab": {
          "base_uri": "https://localhost:8080/"
        },
        "id": "mDSw-iQaHrQW",
        "outputId": "0409f948-a3a1-4866-975f-5fa244c0a8ff"
      },
      "execution_count": 2,
      "outputs": [
        {
          "output_type": "stream",
          "name": "stdout",
          "text": [
            "/content/drive/MyDrive/atnlp\n"
          ]
        }
      ]
    },
    {
      "cell_type": "code",
      "source": [
        "import sys\n",
        "from Dataset import SCANDataset, basic_tokenizer, tokenizer_bart, collate_fn\n",
        "#from Exp2_Dataset import SCANData\n",
        "#from Exp2_Dataset_2 import SCANData\n",
        "from Utils import load_vocab, parse_dataset, parse_data_exp2, split_dataset, create_dataloader, greedy_decode, greedy_decode_single_oracle, greedy_decode_single, create_dataloader_exp2, create_dictionaries_exp2, plot_hist, train_bart, train_bart_exp2, enforce_reproducibility,  evaluate_bart_seq_lenght, oracle_decoder_input, evaluate_with_oracle, train_and_evaluate_with_oracle, evaluate_model_exp2, evaluate_model_exp2_oracle\n",
        "#from Utils_2 import load_vocab, parse_dataset, parse_data_exp2, split_dataset, create_dataloader, create_dataloader_exp2, create_dictionaries_exp2, plot_hist, train_bart, train_bart_exp2, enforce_reproducibility, evaluate_bart_seq_lenght, evaluate_bart_seq_length_fixed\n",
        "from oracle_code import Oracle\n",
        "from Metrics import compute_accuracies\n",
        "import os\n",
        "import torch\n",
        "from tqdm import tqdm\n",
        "import matplotlib.pyplot as plt\n",
        "import pandas as pd\n",
        "import torch\n",
        "from torch.nn.utils import clip_grad_norm_\n",
        "import random\n",
        "from torch.utils.data import DataLoader, RandomSampler, Subset\n",
        "from transformers import BartTokenizer, BartForConditionalGeneration, BartConfig\n",
        "import time"
      ],
      "metadata": {
        "colab": {
          "base_uri": "https://localhost:8080/"
        },
        "id": "Xzordn49Hr_i",
        "outputId": "c9e2947a-3f6e-4c5f-ad9c-d2bab722535e"
      },
      "execution_count": 3,
      "outputs": [
        {
          "output_type": "stream",
          "name": "stderr",
          "text": [
            "/usr/local/lib/python3.11/dist-packages/huggingface_hub/utils/_auth.py:94: UserWarning: \n",
            "The secret `HF_TOKEN` does not exist in your Colab secrets.\n",
            "To authenticate with the Hugging Face Hub, create a token in your settings tab (https://huggingface.co/settings/tokens), set it as secret in your Google Colab and restart your session.\n",
            "You will be able to reuse this secret in all of your notebooks.\n",
            "Please note that authentication is recommended but still optional to access public models or datasets.\n",
            "  warnings.warn(\n"
          ]
        }
      ]
    },
    {
      "cell_type": "markdown",
      "source": [
        "### Loading Vocabulary and Tokenizer<br />\n",
        "- Tokenizer from Pretrained BART model is used"
      ],
      "metadata": {
        "id": "Nz6Uk5f5Rl76"
      }
    },
    {
      "cell_type": "code",
      "source": [
        "# loading vocab\n",
        "input_vocab, output_vocab = load_vocab()"
      ],
      "metadata": {
        "id": "FQyCHxc1H1PK"
      },
      "execution_count": 4,
      "outputs": []
    },
    {
      "cell_type": "code",
      "source": [
        "input_vocab_list = ['<PAD>','twice', 'and', 'look',  'thrice', 'left', 'turn', 'jump', 'run', 'opposite', 'walk', 'after', 'around', 'right', '<EOS>']\n",
        "tokenizer = tokenizer_bart(input_vocab_list)\n"
      ],
      "metadata": {
        "id": "iB3ldCnyhkb3"
      },
      "execution_count": 5,
      "outputs": []
    },
    {
      "cell_type": "markdown",
      "source": [
        "### Loading Pretrained BART and preparing model's configuration to finetune."
      ],
      "metadata": {
        "id": "PthDtisVR_PY"
      }
    },
    {
      "cell_type": "code",
      "source": [
        "\n",
        "model = BartForConditionalGeneration.from_pretrained(\"facebook/bart-base\")\n",
        "# Resize model's embeddings to accommodate new tokens\n",
        "model.resize_token_embeddings(len(tokenizer))\n",
        "\n",
        "# Modify specific parameters in the model's config\n",
        "model.config.max_position_embeddings = 128  # Update max sequence length\n",
        "model.config.pad_token_id = tokenizer.pad_token_id\n",
        "model.config.decoder_start_token_id = tokenizer.pad_token_id\n",
        "model.model.encoder.layers = model.model.encoder.layers[:2]\n",
        "\n",
        "\n",
        "# Print the updated configuration\n",
        "print(\"Updated Configuration:\", model.config)"
      ],
      "metadata": {
        "id": "lASMzLq3hmUj",
        "colab": {
          "base_uri": "https://localhost:8080/"
        },
        "outputId": "e82d9d81-22d0-46c9-ee19-5b53e9639c0c"
      },
      "execution_count": 6,
      "outputs": [
        {
          "output_type": "stream",
          "name": "stderr",
          "text": [
            "The new embeddings will be initialized from a multivariate normal distribution that has old embeddings' mean and covariance. As described in this article: https://nlp.stanford.edu/~johnhew/vocab-expansion.html. To disable this, use `mean_resizing=False`\n"
          ]
        },
        {
          "output_type": "stream",
          "name": "stdout",
          "text": [
            "Updated Configuration: BartConfig {\n",
            "  \"_attn_implementation_autoset\": true,\n",
            "  \"_name_or_path\": \"facebook/bart-base\",\n",
            "  \"activation_dropout\": 0.1,\n",
            "  \"activation_function\": \"gelu\",\n",
            "  \"add_bias_logits\": false,\n",
            "  \"add_final_layer_norm\": false,\n",
            "  \"architectures\": [\n",
            "    \"BartModel\"\n",
            "  ],\n",
            "  \"attention_dropout\": 0.1,\n",
            "  \"bos_token_id\": 0,\n",
            "  \"classif_dropout\": 0.1,\n",
            "  \"classifier_dropout\": 0.0,\n",
            "  \"d_model\": 768,\n",
            "  \"decoder_attention_heads\": 12,\n",
            "  \"decoder_ffn_dim\": 3072,\n",
            "  \"decoder_layerdrop\": 0.0,\n",
            "  \"decoder_layers\": 6,\n",
            "  \"decoder_start_token_id\": 50265,\n",
            "  \"dropout\": 0.1,\n",
            "  \"early_stopping\": true,\n",
            "  \"encoder_attention_heads\": 12,\n",
            "  \"encoder_ffn_dim\": 3072,\n",
            "  \"encoder_layerdrop\": 0.0,\n",
            "  \"encoder_layers\": 6,\n",
            "  \"eos_token_id\": 2,\n",
            "  \"forced_bos_token_id\": 0,\n",
            "  \"forced_eos_token_id\": 2,\n",
            "  \"gradient_checkpointing\": false,\n",
            "  \"id2label\": {\n",
            "    \"0\": \"LABEL_0\",\n",
            "    \"1\": \"LABEL_1\",\n",
            "    \"2\": \"LABEL_2\"\n",
            "  },\n",
            "  \"init_std\": 0.02,\n",
            "  \"is_encoder_decoder\": true,\n",
            "  \"label2id\": {\n",
            "    \"LABEL_0\": 0,\n",
            "    \"LABEL_1\": 1,\n",
            "    \"LABEL_2\": 2\n",
            "  },\n",
            "  \"max_position_embeddings\": 128,\n",
            "  \"model_type\": \"bart\",\n",
            "  \"no_repeat_ngram_size\": 3,\n",
            "  \"normalize_before\": false,\n",
            "  \"normalize_embedding\": true,\n",
            "  \"num_beams\": 4,\n",
            "  \"num_hidden_layers\": 6,\n",
            "  \"pad_token_id\": 50265,\n",
            "  \"scale_embedding\": false,\n",
            "  \"task_specific_params\": {\n",
            "    \"summarization\": {\n",
            "      \"length_penalty\": 1.0,\n",
            "      \"max_length\": 128,\n",
            "      \"min_length\": 12,\n",
            "      \"num_beams\": 4\n",
            "    },\n",
            "    \"summarization_cnn\": {\n",
            "      \"length_penalty\": 2.0,\n",
            "      \"max_length\": 142,\n",
            "      \"min_length\": 56,\n",
            "      \"num_beams\": 4\n",
            "    },\n",
            "    \"summarization_xsum\": {\n",
            "      \"length_penalty\": 1.0,\n",
            "      \"max_length\": 62,\n",
            "      \"min_length\": 11,\n",
            "      \"num_beams\": 6\n",
            "    }\n",
            "  },\n",
            "  \"torch_dtype\": \"float32\",\n",
            "  \"transformers_version\": \"4.47.1\",\n",
            "  \"use_cache\": true,\n",
            "  \"vocab_size\": 50270\n",
            "}\n",
            "\n"
          ]
        }
      ]
    },
    {
      "cell_type": "code",
      "source": [
        "# Modify the configuration\n",
        "# Reduce the number of decoder layers\n",
        "model.model.decoder.layers = model.model.decoder.layers[:2]\n",
        "\n",
        "# Update config to reflect the changes\n",
        "model.config.d_model = 128  # Set the new d_model (embedding size)\n",
        "model.config.encoder_layers = 2\n",
        "model.config.decoder_layers = 2\n",
        "model.config.encoder_attention_heads = 8  # Number of attention heads in the encoder\n",
        "model.config.decoder_attention_heads = 8  # Number of attention heads in the decoder\n",
        "model.config.dropout = 0.15               # Dropout rate\n",
        "model.config.encoder_ffn_dim = 256        # Feedforward dimension in the encoder\n",
        "model.config.decoder_ffn_dim = 256        # Feedforward dimension in the decoder\n",
        "# Print updated configuration\n",
        "print(\"Updated Configuration:\", model.config)"
      ],
      "metadata": {
        "id": "XAHccrMwhxIa",
        "colab": {
          "base_uri": "https://localhost:8080/"
        },
        "outputId": "0c9bc10c-e64b-4dc9-95f8-a2dcbcff1caa"
      },
      "execution_count": 7,
      "outputs": [
        {
          "output_type": "stream",
          "name": "stdout",
          "text": [
            "Updated Configuration: BartConfig {\n",
            "  \"_attn_implementation_autoset\": true,\n",
            "  \"_name_or_path\": \"facebook/bart-base\",\n",
            "  \"activation_dropout\": 0.1,\n",
            "  \"activation_function\": \"gelu\",\n",
            "  \"add_bias_logits\": false,\n",
            "  \"add_final_layer_norm\": false,\n",
            "  \"architectures\": [\n",
            "    \"BartModel\"\n",
            "  ],\n",
            "  \"attention_dropout\": 0.1,\n",
            "  \"bos_token_id\": 0,\n",
            "  \"classif_dropout\": 0.1,\n",
            "  \"classifier_dropout\": 0.0,\n",
            "  \"d_model\": 128,\n",
            "  \"decoder_attention_heads\": 8,\n",
            "  \"decoder_ffn_dim\": 256,\n",
            "  \"decoder_layerdrop\": 0.0,\n",
            "  \"decoder_layers\": 2,\n",
            "  \"decoder_start_token_id\": 50265,\n",
            "  \"dropout\": 0.15,\n",
            "  \"early_stopping\": true,\n",
            "  \"encoder_attention_heads\": 8,\n",
            "  \"encoder_ffn_dim\": 256,\n",
            "  \"encoder_layerdrop\": 0.0,\n",
            "  \"encoder_layers\": 2,\n",
            "  \"eos_token_id\": 2,\n",
            "  \"forced_bos_token_id\": 0,\n",
            "  \"forced_eos_token_id\": 2,\n",
            "  \"gradient_checkpointing\": false,\n",
            "  \"id2label\": {\n",
            "    \"0\": \"LABEL_0\",\n",
            "    \"1\": \"LABEL_1\",\n",
            "    \"2\": \"LABEL_2\"\n",
            "  },\n",
            "  \"init_std\": 0.02,\n",
            "  \"is_encoder_decoder\": true,\n",
            "  \"label2id\": {\n",
            "    \"LABEL_0\": 0,\n",
            "    \"LABEL_1\": 1,\n",
            "    \"LABEL_2\": 2\n",
            "  },\n",
            "  \"max_position_embeddings\": 128,\n",
            "  \"model_type\": \"bart\",\n",
            "  \"no_repeat_ngram_size\": 3,\n",
            "  \"normalize_before\": false,\n",
            "  \"normalize_embedding\": true,\n",
            "  \"num_beams\": 4,\n",
            "  \"num_hidden_layers\": 6,\n",
            "  \"pad_token_id\": 50265,\n",
            "  \"scale_embedding\": false,\n",
            "  \"task_specific_params\": {\n",
            "    \"summarization\": {\n",
            "      \"length_penalty\": 1.0,\n",
            "      \"max_length\": 128,\n",
            "      \"min_length\": 12,\n",
            "      \"num_beams\": 4\n",
            "    },\n",
            "    \"summarization_cnn\": {\n",
            "      \"length_penalty\": 2.0,\n",
            "      \"max_length\": 142,\n",
            "      \"min_length\": 56,\n",
            "      \"num_beams\": 4\n",
            "    },\n",
            "    \"summarization_xsum\": {\n",
            "      \"length_penalty\": 1.0,\n",
            "      \"max_length\": 62,\n",
            "      \"min_length\": 11,\n",
            "      \"num_beams\": 6\n",
            "    }\n",
            "  },\n",
            "  \"torch_dtype\": \"float32\",\n",
            "  \"transformers_version\": \"4.47.1\",\n",
            "  \"use_cache\": true,\n",
            "  \"vocab_size\": 50270\n",
            "}\n",
            "\n"
          ]
        }
      ]
    },
    {
      "cell_type": "code",
      "source": [
        "device = 'cuda' if torch.cuda.is_available() else 'cpu'\n",
        "optimizer = torch.optim.AdamW(model.parameters(), lr = 2e-4 )\n",
        "criterion = torch.nn.CrossEntropyLoss(ignore_index=output_vocab[\"<PAD>\"])\n",
        "model.to(device)"
      ],
      "metadata": {
        "id": "Vx3MteZ0hzhz",
        "colab": {
          "base_uri": "https://localhost:8080/"
        },
        "outputId": "164d92b8-293b-45d6-97ae-960933d1806b"
      },
      "execution_count": 8,
      "outputs": [
        {
          "output_type": "execute_result",
          "data": {
            "text/plain": [
              "BartForConditionalGeneration(\n",
              "  (model): BartModel(\n",
              "    (shared): BartScaledWordEmbedding(50270, 768, padding_idx=1)\n",
              "    (encoder): BartEncoder(\n",
              "      (embed_tokens): BartScaledWordEmbedding(50270, 768, padding_idx=1)\n",
              "      (embed_positions): BartLearnedPositionalEmbedding(1026, 768)\n",
              "      (layers): ModuleList(\n",
              "        (0-1): 2 x BartEncoderLayer(\n",
              "          (self_attn): BartSdpaAttention(\n",
              "            (k_proj): Linear(in_features=768, out_features=768, bias=True)\n",
              "            (v_proj): Linear(in_features=768, out_features=768, bias=True)\n",
              "            (q_proj): Linear(in_features=768, out_features=768, bias=True)\n",
              "            (out_proj): Linear(in_features=768, out_features=768, bias=True)\n",
              "          )\n",
              "          (self_attn_layer_norm): LayerNorm((768,), eps=1e-05, elementwise_affine=True)\n",
              "          (activation_fn): GELUActivation()\n",
              "          (fc1): Linear(in_features=768, out_features=3072, bias=True)\n",
              "          (fc2): Linear(in_features=3072, out_features=768, bias=True)\n",
              "          (final_layer_norm): LayerNorm((768,), eps=1e-05, elementwise_affine=True)\n",
              "        )\n",
              "      )\n",
              "      (layernorm_embedding): LayerNorm((768,), eps=1e-05, elementwise_affine=True)\n",
              "    )\n",
              "    (decoder): BartDecoder(\n",
              "      (embed_tokens): BartScaledWordEmbedding(50270, 768, padding_idx=1)\n",
              "      (embed_positions): BartLearnedPositionalEmbedding(1026, 768)\n",
              "      (layers): ModuleList(\n",
              "        (0-1): 2 x BartDecoderLayer(\n",
              "          (self_attn): BartSdpaAttention(\n",
              "            (k_proj): Linear(in_features=768, out_features=768, bias=True)\n",
              "            (v_proj): Linear(in_features=768, out_features=768, bias=True)\n",
              "            (q_proj): Linear(in_features=768, out_features=768, bias=True)\n",
              "            (out_proj): Linear(in_features=768, out_features=768, bias=True)\n",
              "          )\n",
              "          (activation_fn): GELUActivation()\n",
              "          (self_attn_layer_norm): LayerNorm((768,), eps=1e-05, elementwise_affine=True)\n",
              "          (encoder_attn): BartSdpaAttention(\n",
              "            (k_proj): Linear(in_features=768, out_features=768, bias=True)\n",
              "            (v_proj): Linear(in_features=768, out_features=768, bias=True)\n",
              "            (q_proj): Linear(in_features=768, out_features=768, bias=True)\n",
              "            (out_proj): Linear(in_features=768, out_features=768, bias=True)\n",
              "          )\n",
              "          (encoder_attn_layer_norm): LayerNorm((768,), eps=1e-05, elementwise_affine=True)\n",
              "          (fc1): Linear(in_features=768, out_features=3072, bias=True)\n",
              "          (fc2): Linear(in_features=3072, out_features=768, bias=True)\n",
              "          (final_layer_norm): LayerNorm((768,), eps=1e-05, elementwise_affine=True)\n",
              "        )\n",
              "      )\n",
              "      (layernorm_embedding): LayerNorm((768,), eps=1e-05, elementwise_affine=True)\n",
              "    )\n",
              "  )\n",
              "  (lm_head): Linear(in_features=768, out_features=50270, bias=False)\n",
              ")"
            ]
          },
          "metadata": {},
          "execution_count": 8
        }
      ]
    },
    {
      "cell_type": "markdown",
      "source": [
        "### Preparing Data for training: <br />\n",
        "- Splitting data from train and test folders into two data files containing lengths of output action sequences.\n",
        "- Loading the data files for Training"
      ],
      "metadata": {
        "id": "HrTFLA1rHtaq"
      }
    },
    {
      "cell_type": "code",
      "source": [
        "# train data\n",
        "train_path = 'data/tasks_train_length.txt'\n",
        "parsed_trainset = parse_data_exp2(train_path)\n",
        "train_command_dict, train_action_dict = create_dictionaries_exp2(parsed_trainset)\n",
        "\n",
        "plot_hist(train_command_dict, train_action_dict)\n",
        "\n",
        "\n",
        "# sorting dictionaries by key such as command and action lengths\n",
        "sorted_train_command_dict = dict(sorted(train_command_dict.items()))  # Sorting by key\n",
        "sorted_train_action_dict = dict(sorted(train_action_dict.items()))    # Sorting by key\n",
        "\n",
        "train_command_lengths = sorted_train_command_dict.keys()\n",
        "train_action_lengths = sorted_train_action_dict.keys()\n",
        "\n",
        "# loading training data\n",
        "train_command_loader = [create_dataloader_exp2(i, input_vocab, output_vocab, tokenizer, batch_size=16, shuffle = False) for j, i in sorted_train_command_dict.items()]\n",
        "train_action_loader = [create_dataloader_exp2(i, input_vocab, output_vocab, tokenizer, batch_size=16, shuffle = False) for j, i in sorted_train_action_dict.items()]\n",
        "\n",
        "# test data\n",
        "val_path = 'data/tasks_test_length.txt'\n",
        "parsed_val_set = parse_data_exp2(val_path)\n",
        "val_command_dict, val_action_dict = create_dictionaries_exp2(parsed_val_set)\n",
        "\n",
        "# Sort the dictionaries by key such as command and action length\n",
        "sorted_val_command_dict = dict(sorted(val_command_dict.items()))  # Sorting by key\n",
        "sorted_val_action_dict = dict(sorted(val_action_dict.items()))    # Sorting by key\n",
        "\n",
        "val_command_lengths = sorted_val_command_dict.keys()\n",
        "val_action_lengths = sorted_val_action_dict.keys()\n",
        "\n",
        "# loading test data\n",
        "val_command_loader = [create_dataloader_exp2(i, input_vocab, output_vocab, tokenizer, batch_size=16, shuffle = False) for j, i in sorted_val_command_dict.items()]\n",
        "val_action_loader = [create_dataloader_exp2(i, input_vocab, output_vocab, tokenizer, batch_size=16, shuffle = False) for j, i in sorted_val_action_dict.items()]"
      ],
      "metadata": {
        "colab": {
          "base_uri": "https://localhost:8080/",
          "height": 329
        },
        "id": "dofK9B5BGf7L",
        "outputId": "9d38b69d-03f2-4307-befc-a350ae596648"
      },
      "execution_count": null,
      "outputs": [
        {
          "output_type": "display_data",
          "data": {
            "text/plain": [
              "<Figure size 1200x600 with 2 Axes>"
            ],
            "image/png": "[encoded data removed]"
          },
          "metadata": {}
        }
      ]
    },
    {
      "cell_type": "markdown",
      "source": [
        "### Training and Validation the tasks with BART"
      ],
      "metadata": {
        "id": "qPlSjdtZIPly"
      }
    },
    {
      "cell_type": "code",
      "source": [
        "epochs= 10\n",
        "batch_size=16\n",
        "lr= 2e-4\n",
        "results= {}\n",
        "grad_clip = 1.0\n",
        "teacher_forcing_ratio = 0.5 # may or may not it for validation\n",
        "token_accuracies = []\n",
        "seq_accuracies = []\n",
        "\n",
        "for epoch in range(epochs):\n",
        "      print(f\"\\nTraining data\")\n",
        "      train_loss = train_bart_exp2(model, train_command_loader, train_action_loader, optimizer, device, grad_clip=1.0)\n",
        "      print(f\"Epoch {epoch+1}/{10}, Training Loss: {train_loss:.4f}\")\n",
        "\n",
        "      val_loss, token_acc, seq_acc, cmd_len_acc, act_len_acc = evaluate_bart_seq_lenght(\n",
        "          model,\n",
        "          val_command_loader,\n",
        "          val_action_loader,\n",
        "          device,\n",
        "          tokenizer,\n",
        "          start_token_id=3,\n",
        "          eos_token_id=50269\n",
        "          )\n",
        "print(f\"Validation Loss: {val_loss:.4f}, Token Accuracy: {token_acc:.4f}, Sequence Accuracy: {seq_acc:.4f}\")\n",
        "token_accuracies.append(token_acc)\n",
        "seq_accuracies.append(seq_acc)\n",
        "\n",
        "    # Calculate the average accuracy over the repetitions\n",
        "avg_token_acc = sum(token_accuracies) / len(token_accuracies)\n",
        "avg_seq_acc = sum(seq_accuracies) / len(seq_accuracies)\n",
        "    # Store the results in the dictionary\n",
        "\n",
        "\n",
        "print(f\"Test Token-Level Accuracy: {token_acc:.8f}\")\n",
        "print(f\"Test Sequence-Level Accuracy: {seq_acc:.8f}\")"
      ],
      "metadata": {
        "colab": {
          "base_uri": "https://localhost:8080/"
        },
        "id": "eazp2lBIIOpc",
        "outputId": "d3310858-1b64-4179-c9fe-b3d67d333c57"
      },
      "execution_count": null,
      "outputs": [
        {
          "output_type": "stream",
          "name": "stdout",
          "text": [
            "\n",
            "Training data\n"
          ]
        },
        {
          "output_type": "stream",
          "name": "stderr",
          "text": [
            "/content/drive/MyDrive/atnlp/Dataset.py:123: UserWarning: To copy construct from a tensor, it is recommended to use sourceTensor.clone().detach() or sourceTensor.clone().detach().requires_grad_(True), rather than torch.tensor(sourceTensor).\n",
            "  input_seqs = [torch.tensor(item['input_ids']) for item in batch]\n",
            "/content/drive/MyDrive/atnlp/Dataset.py:124: UserWarning: To copy construct from a tensor, it is recommended to use sourceTensor.clone().detach() or sourceTensor.clone().detach().requires_grad_(True), rather than torch.tensor(sourceTensor).\n",
            "  input_masks = [torch.tensor(item['input_attention_mask']) for item in batch]\n",
            "/content/drive/MyDrive/atnlp/Dataset.py:125: UserWarning: To copy construct from a tensor, it is recommended to use sourceTensor.clone().detach() or sourceTensor.clone().detach().requires_grad_(True), rather than torch.tensor(sourceTensor).\n",
            "  target_seqs = [torch.tensor(item['target_ids']) for item in batch]\n",
            "/content/drive/MyDrive/atnlp/Dataset.py:126: UserWarning: To copy construct from a tensor, it is recommended to use sourceTensor.clone().detach() or sourceTensor.clone().detach().requires_grad_(True), rather than torch.tensor(sourceTensor).\n",
            "  target_masks = [torch.tensor(item['target_attention_mask']) for item in batch]\n"
          ]
        },
        {
          "output_type": "stream",
          "name": "stdout",
          "text": [
            "Average Training Loss: 2.4033\n",
            "Epoch 1/10, Training Loss: 2.4033\n",
            "\n",
            "Training data\n",
            "Average Training Loss: 0.0312\n",
            "Epoch 2/10, Training Loss: 0.0312\n",
            "\n",
            "Training data\n",
            "Average Training Loss: 0.0207\n",
            "Epoch 3/10, Training Loss: 0.0207\n",
            "\n",
            "Training data\n",
            "Average Training Loss: 0.0151\n",
            "Epoch 4/10, Training Loss: 0.0151\n",
            "\n",
            "Training data\n",
            "Average Training Loss: 0.0143\n",
            "Epoch 5/10, Training Loss: 0.0143\n",
            "\n",
            "Training data\n",
            "Average Training Loss: 0.0120\n",
            "Epoch 6/10, Training Loss: 0.0120\n",
            "\n",
            "Training data\n",
            "Average Training Loss: 0.0112\n",
            "Epoch 7/10, Training Loss: 0.0112\n",
            "\n",
            "Training data\n",
            "Average Training Loss: 0.0091\n",
            "Epoch 8/10, Training Loss: 0.0091\n",
            "\n",
            "Training data\n",
            "Average Training Loss: 0.0084\n",
            "Epoch 9/10, Training Loss: 0.0084\n",
            "\n",
            "Training data\n",
            "Average Training Loss: 0.0088\n",
            "Epoch 10/10, Training Loss: 0.0088\n",
            "Validation Loss: 5.9028, Token Accuracy: 0.9351, Sequence Accuracy: 0.1411\n",
            "Test Token-Level Accuracy: 0.93510295\n",
            "Test Sequence-Level Accuracy: 0.14114987\n"
          ]
        }
      ]
    },
    {
      "cell_type": "code",
      "source": [
        "print(\"Sequence level accuracies for act_len_acc, cmd_len_acc\")"
      ],
      "metadata": {
        "colab": {
          "base_uri": "https://localhost:8080/"
        },
        "id": "S_pHOXArQi_S",
        "outputId": "e950c4db-7f84-4fe8-91de-28496f7409bf"
      },
      "execution_count": null,
      "outputs": [
        {
          "output_type": "stream",
          "name": "stdout",
          "text": [
            "{128: 0.9287939361961198} {128: 0.9414446575007139}\n"
          ]
        }
      ]
    },
    {
      "cell_type": "code",
      "source": [
        "fig, axes = plt.subplots(1, 2, figsize=(16, 6), sharey=False)\n",
        "\n",
        "    # Left subplot: Token-level accuracy (Action sequences) without oracle\n",
        "axes[0].bar([f\"{k}\" for k in sorted_val_action_dict.keys()], act_len_acc, color='skyblue')\n",
        "axes[0].set_xlabel('Ground-Truth Output Sequence Length ')\n",
        "axes[0].set_ylabel('Accuracy on New Commands ')\n",
        "axes[0].set_title('Sequence-Level Accuracy by Output Action Sequence Length')\n",
        "axes[0].grid(True)\n",
        "\n",
        "    # Right subplot: Token-level accuracy (Command sequences) without oracle\n",
        "axes[1].bar([f\"{k}\" for k in sorted_val_command_dict.keys()], cmd_len_acc, color='purple')\n",
        "axes[1].set_xlabel('Input Length ')\n",
        "axes[1].set_ylabel('Accuracy on New Commands)')\n",
        "axes[1].set_title('Sequence-Level Accuracy by Input Command Length')\n",
        "axes[1].grid(True)"
      ],
      "metadata": {
        "colab": {
          "base_uri": "https://localhost:8080/",
          "height": 584
        },
        "id": "uEn53Ei8Iy1z",
        "outputId": "a1ca146c-9554-48f3-c2a7-bc5734ae5639"
      },
      "execution_count": null,
      "outputs": [
        {
          "output_type": "display_data",
          "data": {
            "text/plain": [
              "<Figure size 1600x600 with 2 Axes>"
            ],
            "image/png": "[encoded data removed]"
          },
          "metadata": {}
        }
      ]
    },
    {
      "cell_type": "markdown",
      "source": [
        "### Loading data for oracle implementation"
      ],
      "metadata": {
        "id": "ljqFAb69uFyD"
      }
    },
    {
      "cell_type": "code",
      "source": [
        "df = parse_dataset('data/tasks.txt', input_vocab, output_vocab)\n",
        "df['OUT_len'] = df['OUT'].apply(lambda x: len(x.split()))\n",
        "# Filter the dataframe based on OUT_len\n",
        "train_df = df[df['OUT_len'] < 23].reset_index(drop=True)\n",
        "val_df = df[df['OUT_len'] >= 23].reset_index(drop=True)\n",
        "\n",
        "print(\"Train len should be 16990:\", (train_df.shape[0] ) == 16990, \"\\nval len should be 3920:\", val_df.shape[0] == 3920)"
      ],
      "metadata": {
        "id": "0ME0vfrLiffE",
        "colab": {
          "base_uri": "https://localhost:8080/"
        },
        "outputId": "f8e21219-8a8d-4e91-f51c-b735e5f0038a"
      },
      "execution_count": 9,
      "outputs": [
        {
          "output_type": "stream",
          "name": "stdout",
          "text": [
            "Train len should be 16990: True \n",
            "val len should be 3920: True\n"
          ]
        }
      ]
    },
    {
      "cell_type": "code",
      "source": [
        "# Initialize the dataset and dataloader\n",
        "train_dataset = SCANDataset(train_df, input_vocab, output_vocab, tokenizer)\n",
        "train_dataloader = DataLoader(train_dataset, batch_size=16, shuffle=True, collate_fn=collate_fn)\n",
        "\n",
        "# Initialize the dataset and dataloader\n",
        "val_dataset = SCANDataset(val_df, input_vocab, output_vocab, tokenizer)\n",
        "val_dataloader = DataLoader(val_dataset, batch_size=16, shuffle=True, collate_fn=collate_fn)\n",
        "\n",
        "eval_dataset = SCANDataset(val_df, input_vocab, output_vocab, tokenizer)\n",
        "eval_dataloader = DataLoader(val_dataset, batch_size=1, shuffle=True, collate_fn=collate_fn)"
      ],
      "metadata": {
        "id": "ZpwzvQ56WtC_"
      },
      "execution_count": 10,
      "outputs": []
    },
    {
      "cell_type": "code",
      "source": [
        "def train_epoch(model, loader, criterion, optimizer, grad_clip):\n",
        "    model.train()\n",
        "    total_loss = 0\n",
        "    for batch in loader:\n",
        "        src = batch['input_ids'].to(device)\n",
        "        tgt = batch['target_ids'].to(device)\n",
        "        tgt_input = tgt[:, :-1]\n",
        "        tgt_output = tgt[:, 1:].contiguous().view(-1)\n",
        "\n",
        "        optimizer.zero_grad()\n",
        "\n",
        "        # Forward pass without teacher forcing\n",
        "        outputs = model(src, tgt_input) # get the Seq2SeqLMOutput object\n",
        "        logits = outputs.logits # access the logits\n",
        "\n",
        "        loss = criterion(logits.view(-1, logits.size(-1)), tgt_output) # apply view on logits\n",
        "        loss.backward()\n",
        "        torch.nn.utils.clip_grad_norm_(model.parameters(), grad_clip)\n",
        "        optimizer.step()\n",
        "\n",
        "        total_loss += loss.item()\n",
        "    return total_loss / len(loader)"
      ],
      "metadata": {
        "id": "_zg6KXebW_kQ"
      },
      "execution_count": 11,
      "outputs": []
    },
    {
      "cell_type": "code",
      "source": [
        "epochs = 10\n",
        "grad_clip = 1.0\n",
        "teacher_forcing = False\n",
        "best_tok_acc = 0\n",
        "for epoch in range(epochs):\n",
        "    model.train()\n",
        "    total_loss = 0\n",
        "\n",
        "    for i, batch in enumerate(tqdm(train_dataloader)):\n",
        "        src_in = batch['input_ids'].to(device)\n",
        "        tgt_in = batch['target_ids'].to(device)\n",
        "\n",
        "        # Get the model output, which is a Seq2SeqLMOutput object\n",
        "        outputs = model(src_in, tgt_in[:, :-1])\n",
        "\n",
        "        # Access the logits from the outputs object\n",
        "        logits = outputs.logits\n",
        "\n",
        "        # Compute loss\n",
        "        loss = criterion(logits.view(-1, logits.size(-1)), tgt_in[:, 1:].contiguous().view(-1))\n",
        "        total_loss += loss.item()\n",
        "        torch.nn.utils.clip_grad_norm_(model.parameters(), grad_clip)\n",
        "\n",
        "        # Backward pass\n",
        "        optimizer.zero_grad()\n",
        "        loss.backward()\n",
        "        optimizer.step()\n",
        "\n",
        "\n",
        "\n",
        "\n",
        "\n",
        "    model.eval()\n",
        "    with torch.no_grad():\n",
        "        token_acc = 0\n",
        "        seq_acc = 0\n",
        "        for batch in tqdm(val_dataloader):\n",
        "\n",
        "            src_in_val = batch['input_ids'].to(device)\n",
        "            tgt_in_val = batch['target_ids'].to(device)\n",
        "\n",
        "            if teacher_forcing:\n",
        "\n",
        "                logits = model(src_in_val, tgt_in_val[:, :-1])\n",
        "                output_val = logits.argmax(dim=-1)\n",
        "\n",
        "            else:\n",
        "                # Generate predictions without teacher forcing\n",
        "                output_val = greedy_decode(\n",
        "                    model,\n",
        "                    src_in_val,\n",
        "                    max_len=tgt_in_val.size(1),  # Maximum length of the target sequence\n",
        "                    start_token_id=3,\n",
        "                    eos_token_id=50269\n",
        "\n",
        "                )\n",
        "\n",
        "            # Compute accuracy\n",
        "            token_acc_batch, seq_acc_batch = compute_accuracies(output_val, tgt_in_val[:, 1:])\n",
        "            token_acc += token_acc_batch\n",
        "            seq_acc += seq_acc_batch\n",
        "\n",
        "        if token_acc / len(val_dataloader) > best_tok_acc:\n",
        "            print(\"Saving model\")\n",
        "            best_tok_acc = token_acc / len(val_dataloader)\n",
        "            torch.save(model.state_dict(), \"Archive/models/best_model_experiment2.pth\")\n",
        "\n",
        "        print(f\"Epoch {epoch+1}/{epochs} Loss: {total_loss/len(train_dataloader)} Token Acc: {token_acc/len(val_dataloader)} Seq Acc: {seq_acc/len(val_dataloader)}\")"
      ],
      "metadata": {
        "colab": {
          "base_uri": "https://localhost:8080/"
        },
        "id": "p7P1WX2KYgqR",
        "outputId": "56135029-5967-4d67-96bd-2881c7109096"
      },
      "execution_count": 15,
      "outputs": [
        {
          "output_type": "stream",
          "name": "stderr",
          "text": [
            "100%|██████████| 1062/1062 [01:12<00:00, 14.65it/s]\n",
            "100%|██████████| 245/245 [06:54<00:00,  1.69s/it]\n"
          ]
        },
        {
          "output_type": "stream",
          "name": "stdout",
          "text": [
            "Saving model\n",
            "Epoch 1/10 Loss: 0.18724929043942476 Token Acc: 0.0005261479591836735 Seq Acc: 0.0\n"
          ]
        },
        {
          "output_type": "stream",
          "name": "stderr",
          "text": [
            "100%|██████████| 1062/1062 [01:12<00:00, 14.65it/s]\n",
            "100%|██████████| 245/245 [06:54<00:00,  1.69s/it]\n"
          ]
        },
        {
          "output_type": "stream",
          "name": "stdout",
          "text": [
            "Saving model\n",
            "Epoch 2/10 Loss: 0.12634932065273857 Token Acc: 0.006020806760204082 Seq Acc: 0.0\n"
          ]
        },
        {
          "output_type": "stream",
          "name": "stderr",
          "text": [
            "100%|██████████| 1062/1062 [01:12<00:00, 14.65it/s]\n",
            "100%|██████████| 245/245 [06:54<00:00,  1.69s/it]\n"
          ]
        },
        {
          "output_type": "stream",
          "name": "stdout",
          "text": [
            "Epoch 3/10 Loss: 0.09857651179133724 Token Acc: 0.0020169005102040815 Seq Acc: 0.0\n"
          ]
        },
        {
          "output_type": "stream",
          "name": "stderr",
          "text": [
            "100%|██████████| 1062/1062 [01:12<00:00, 14.62it/s]\n",
            "100%|██████████| 245/245 [06:54<00:00,  1.69s/it]\n"
          ]
        },
        {
          "output_type": "stream",
          "name": "stdout",
          "text": [
            "Epoch 4/10 Loss: 0.08259369916301887 Token Acc: 0.0005261479591836735 Seq Acc: 0.0\n"
          ]
        },
        {
          "output_type": "stream",
          "name": "stderr",
          "text": [
            "100%|██████████| 1062/1062 [01:12<00:00, 14.64it/s]\n",
            "100%|██████████| 245/245 [06:54<00:00,  1.69s/it]\n"
          ]
        },
        {
          "output_type": "stream",
          "name": "stdout",
          "text": [
            "Epoch 5/10 Loss: 0.07845059002832055 Token Acc: 0.0005261479591836735 Seq Acc: 0.0\n"
          ]
        },
        {
          "output_type": "stream",
          "name": "stderr",
          "text": [
            "100%|██████████| 1062/1062 [01:12<00:00, 14.57it/s]\n",
            "100%|██████████| 245/245 [06:56<00:00,  1.70s/it]\n"
          ]
        },
        {
          "output_type": "stream",
          "name": "stdout",
          "text": [
            "Saving model\n",
            "Epoch 6/10 Loss: 0.06872745036110703 Token Acc: 0.008338647959183673 Seq Acc: 0.0\n"
          ]
        },
        {
          "output_type": "stream",
          "name": "stderr",
          "text": [
            "100%|██████████| 1062/1062 [01:12<00:00, 14.57it/s]\n",
            "100%|██████████| 245/245 [06:55<00:00,  1.69s/it]\n"
          ]
        },
        {
          "output_type": "stream",
          "name": "stdout",
          "text": [
            "Epoch 7/10 Loss: 0.06576769000617348 Token Acc: 0.008338647959183673 Seq Acc: 0.0\n"
          ]
        },
        {
          "output_type": "stream",
          "name": "stderr",
          "text": [
            "100%|██████████| 1062/1062 [01:12<00:00, 14.61it/s]\n",
            "100%|██████████| 245/245 [06:54<00:00,  1.69s/it]\n"
          ]
        },
        {
          "output_type": "stream",
          "name": "stdout",
          "text": [
            "Saving model\n",
            "Epoch 8/10 Loss: 0.06379976115854222 Token Acc: 0.02828842474489796 Seq Acc: 0.0\n"
          ]
        },
        {
          "output_type": "stream",
          "name": "stderr",
          "text": [
            "100%|██████████| 1062/1062 [01:12<00:00, 14.61it/s]\n",
            "100%|██████████| 245/245 [06:54<00:00,  1.69s/it]\n"
          ]
        },
        {
          "output_type": "stream",
          "name": "stdout",
          "text": [
            "Epoch 9/10 Loss: 0.06181459999494184 Token Acc: 0.011017219387755102 Seq Acc: 0.0\n"
          ]
        },
        {
          "output_type": "stream",
          "name": "stderr",
          "text": [
            "100%|██████████| 1062/1062 [01:12<00:00, 14.64it/s]\n",
            "100%|██████████| 245/245 [06:54<00:00,  1.69s/it]"
          ]
        },
        {
          "output_type": "stream",
          "name": "stdout",
          "text": [
            "Epoch 10/10 Loss: 0.06158752715927172 Token Acc: 0.008338647959183673 Seq Acc: 0.0\n"
          ]
        },
        {
          "output_type": "stream",
          "name": "stderr",
          "text": [
            "\n"
          ]
        }
      ]
    },
    {
      "cell_type": "code",
      "source": [],
      "metadata": {
        "id": "QJ4DL4GnPYNB"
      },
      "execution_count": null,
      "outputs": []
    }
  ]
}